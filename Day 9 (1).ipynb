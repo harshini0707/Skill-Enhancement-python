{
 "cells": [
  {
   "cell_type": "markdown",
   "metadata": {},
   "source": [
    "### Day 9"
   ]
  },
  {
   "cell_type": "markdown",
   "metadata": {},
   "source": [
    "### Date 09 May 2019"
   ]
  },
  {
   "cell_type": "markdown",
   "metadata": {},
   "source": [
    "### Problem 1"
   ]
  },
  {
   "cell_type": "markdown",
   "metadata": {},
   "source": [
    "### Problem Statement\n",
    "\n",
    "Given 2 int values, return True if first parameter is negative  and second parameter  is positive or vice versa. Except if the parameter  is True, then return True only if first two parameters are negative."
   ]
  },
  {
   "cell_type": "markdown",
   "metadata": {},
   "source": [
    "### Constraints"
   ]
  },
  {
   "cell_type": "markdown",
   "metadata": {},
   "source": [
    "#### Test cases\n",
    "* pos_neg(1, -1, False) → True\n",
    "* pos_neg(-1, 1, False) → True\n",
    "* pos_neg(-4, -5, True) → True\n",
    "* pos_neg(-1, 1, True) -> False\n",
    "* pos_neg(1, 6, True) -> False\n",
    "* pos_neg(-1, -9, False) -> False"
   ]
  },
  {
   "cell_type": "markdown",
   "metadata": {},
   "source": [
    "#### Explanation"
   ]
  },
  {
   "cell_type": "code",
   "execution_count": 5,
   "metadata": {},
   "outputs": [
    {
     "name": "stdout",
     "output_type": "stream",
     "text": [
      "True\n",
      "True\n",
      "True\n",
      "False\n",
      "False\n",
      "False\n"
     ]
    }
   ],
   "source": [
    "def pos_neg(n1, n2, b) :\n",
    "    if (n1 < 0 and n2 > 0 and b == False) or(n1 > 0 and n2 < 0 and b == False) or (n1 < 0 and n2 < 0 and b == True) :\n",
    "        return True\n",
    "    else:\n",
    "        return False\n",
    "print (pos_neg(1, -1, False))\n",
    "print (pos_neg(-1, 1, False))\n",
    "print (pos_neg(-4, -5, True))\n",
    "print (pos_neg(-1, 1, True))\n",
    "print (pos_neg(1, 6, True))\n",
    "print (pos_neg(-1, -9, False))"
   ]
  },
  {
   "cell_type": "code",
   "execution_count": 6,
   "metadata": {},
   "outputs": [
    {
     "name": "stdout",
     "output_type": "stream",
     "text": [
      "True\n",
      "True\n",
      "True\n",
      "False\n",
      "False\n",
      "False\n"
     ]
    }
   ],
   "source": [
    "def pos_neg(n1, n2, b) :\n",
    "    if (n1 < 0 and n2 > 0 and b == False):\n",
    "        return True\n",
    "    elif(n1 > 0 and n2 < 0 and b == False):\n",
    "        return True\n",
    "    elif(n1 < 0 and n2 < 0 and b == True) :\n",
    "        return True\n",
    "    else:\n",
    "        return False\n",
    "print (pos_neg(1, -1, False))\n",
    "print (pos_neg(-1, 1, False))\n",
    "print (pos_neg(-4, -5, True))\n",
    "print (pos_neg(-1, 1, True))\n",
    "print (pos_neg(1, 6, True))\n",
    "print (pos_neg(-1, -9, False))\n",
    "    "
   ]
  },
  {
   "cell_type": "code",
   "execution_count": 7,
   "metadata": {},
   "outputs": [
    {
     "name": "stdout",
     "output_type": "stream",
     "text": [
      "True\n",
      "True\n",
      "True\n",
      "False\n",
      "False\n",
      "False\n"
     ]
    }
   ],
   "source": [
    "def pos_neg(n1, n2, b) :\n",
    "    return (n1 < 0 and n2 > 0 and b == False) or(n1 > 0 and n2 < 0 and b == False) or (n1 < 0 and n2 < 0 and b == True)\n",
    "print (pos_neg(1, -1, False))\n",
    "print (pos_neg(-1, 1, False))\n",
    "print (pos_neg(-4, -5, True))\n",
    "print (pos_neg(-1, 1, True))\n",
    "print (pos_neg(1, 6, True))\n",
    "print (pos_neg(-1, -9, False))"
   ]
  },
  {
   "cell_type": "markdown",
   "metadata": {},
   "source": [
    "# Problem 2\n",
    "\n",
    "### Problem Statement\n",
    "Given an int n, return True if it is within 10 of 100 or 200. Note: abs(num) computes the absolute value of a number.\n",
    "\n",
    "### Constraints\n",
    "\n",
    "#### Test cases\n",
    "* near_hundred(93) → True\n",
    "* near_hundred(90) → True\n",
    "* near_hundred(89) → False\n",
    "\n",
    "#### Explanation"
   ]
  },
  {
   "cell_type": "code",
   "execution_count": 40,
   "metadata": {},
   "outputs": [
    {
     "name": "stdout",
     "output_type": "stream",
     "text": [
      "True\n",
      "True\n",
      "False\n"
     ]
    }
   ],
   "source": [
    "import math\n",
    "def near_hundred(n):\n",
    "    if (( abs(n) >= 90 ) and ( abs( n ) <= 110) or \n",
    "  ( abs(n) >= 190 ) and ( abs( n ) <= 210 )):\n",
    "        return True\n",
    "    else:\n",
    "        return False\n",
    "\n",
    "print(near_hundred(93))\n",
    "print(near_hundred(90))\n",
    "print(near_hundred(89))"
   ]
  },
  {
   "cell_type": "markdown",
   "metadata": {},
   "source": [
    "# Problem 3\n",
    "\n",
    "## Problem Statement\n",
    "Create a Random Number Generator as a Procedure which takes the Range(lb, ub) and returns a Random number in the given range\n",
    "\n",
    "### Constraints\n",
    "\n",
    "#### Test cases\n",
    "\n",
    "#### Explanation"
   ]
  },
  {
   "cell_type": "code",
   "execution_count": 23,
   "metadata": {},
   "outputs": [
    {
     "data": {
      "text/plain": [
       "51"
      ]
     },
     "execution_count": 23,
     "metadata": {},
     "output_type": "execute_result"
    }
   ],
   "source": [
    "import random\n",
    "\n",
    "def randomGenerator(lb, ub):\n",
    "    return random.randrange(lb+1, ub)\n",
    "randomGenerator(1,101)"
   ]
  },
  {
   "cell_type": "markdown",
   "metadata": {},
   "source": [
    "# Problem 4\n",
    "\n",
    "## Problem Statement\n",
    "Given an integer N, calculate the sum of N random numbers in the range [0,   1000000000000000]\n",
    "\n",
    "### Constraints\n",
    "\n",
    "#### Test cases\n",
    "\n",
    "#### Explanation"
   ]
  },
  {
   "cell_type": "code",
   "execution_count": 27,
   "metadata": {},
   "outputs": [
    {
     "data": {
      "text/plain": [
       "49528330156705250173"
      ]
     },
     "execution_count": 27,
     "metadata": {},
     "output_type": "execute_result"
    }
   ],
   "source": [
    "import random\n",
    "\n",
    "def sumRandomNumbers(n, lb, ub):\n",
    "    sum =0\n",
    "    for count in range(1, n+1):\n",
    "        sum= sum + random.randint(lb,ub)\n",
    "    return sum\n",
    "\n",
    "sumRandomNumbers(100, 0, 1000000000000000000)"
   ]
  },
  {
   "cell_type": "markdown",
   "metadata": {},
   "source": [
    "# Problem 5\n",
    "\n",
    "## Problem Statement\n",
    "Design a procedure to perform Linear search on list of N unsorted unique numbers.In take an array and the key element to be searched and returns the index of the key element if found.Else retun -1\n",
    "\n",
    "### Constraints\n",
    "\n",
    "#### Test cases\n",
    "* linearsearch([1,4,8,0,3,5,6] , 3) -> 4\n",
    "* linearsearch([15,12,9,6,3, -3] , 0) -> -1\n",
    "* linearsearch([321, 543, 567, 789], 567) -> 2\n",
    "\n",
    "#### Explanation"
   ]
  },
  {
   "cell_type": "code",
   "execution_count": 42,
   "metadata": {},
   "outputs": [
    {
     "name": "stdout",
     "output_type": "stream",
     "text": [
      "-1\n"
     ]
    },
    {
     "data": {
      "text/plain": [
       "2"
      ]
     },
     "execution_count": 42,
     "metadata": {},
     "output_type": "execute_result"
    }
   ],
   "source": [
    "a= [1 ,4, 8, 0, 3, 5, 6]\n",
    "def linearSearch(a, key):\n",
    "    for i in range(0, len(a)):\n",
    "        if(a[i] == key ):\n",
    "            return i\n",
    "    return -1\n",
    "print(linearSearch([15,12,9,6,3, -3] , 0))\n",
    "linearSearch([321, 543, 567, 789], 567)"
   ]
  },
  {
   "cell_type": "markdown",
   "metadata": {},
   "source": [
    "# Problem 6\n",
    "\n",
    "## Problem Statement\n",
    "Procedure to print N natural numbers.\n",
    "\n",
    "### Constraints\n",
    "\n",
    "#### Test cases\n",
    "\n",
    "\n",
    "#### Explanation\n"
   ]
  },
  {
   "cell_type": "code",
   "execution_count": 55,
   "metadata": {},
   "outputs": [
    {
     "name": "stdout",
     "output_type": "stream",
     "text": [
      "Enter n value:8\n",
      "1 2 3 4 5 6 7 8 "
     ]
    }
   ],
   "source": [
    "n=int(input(\"Enter n value:\"))\n",
    "for i in range(1,n+1):\n",
    "    print(i,end=\" \")"
   ]
  },
  {
   "cell_type": "markdown",
   "metadata": {},
   "source": [
    "# Problem 7\n",
    "\n",
    "## Problem Statement\n",
    "Procedure to calculate the factorial of a given number\n",
    "\n",
    "### Constraints\n",
    "\n",
    "#### Test cases\n",
    "\n",
    "\n",
    "#### Explanation"
   ]
  },
  {
   "cell_type": "code",
   "execution_count": null,
   "metadata": {},
   "outputs": [],
   "source": [
    "n = 5\n",
    "fact = 1\n",
    "  \n",
    "for i in range(1,n+1): \n",
    "    fact = fact * i \n",
    "      \n",
    "print (\"The factorial of 23 is : \",end=\"\") \n",
    "print (fact) "
   ]
  },
  {
   "cell_type": "code",
   "execution_count": null,
   "metadata": {},
   "outputs": [],
   "source": [
    "n=int(input(\"enter n value\"))\n",
    "fact=1\n",
    "for i in range(1,n+1):\n",
    "    fact=fact*i\n",
    "print(fact)"
   ]
  },
  {
   "cell_type": "markdown",
   "metadata": {},
   "source": [
    "# Problem 8\n",
    "\n",
    "## Problem Statement\n",
    "Designing procedures for Basic Arithmetic operations\n",
    "\n",
    "### Constraints\n",
    "\n",
    "#### Test cases\n",
    "\n",
    "\n",
    "#### Explanation"
   ]
  },
  {
   "cell_type": "code",
   "execution_count": null,
   "metadata": {},
   "outputs": [],
   "source": [
    "a=int(input(\"enter a value\"))\n",
    "b=int(input(\"enter b value\"))\n",
    "addition=a+b\n",
    "subtraction=a-b\n",
    "multiplication=a*b\n",
    "Division=a/b\n",
    "print(addition)\n",
    "print(subtraction)\n",
    "print(multiplication)\n",
    "print(Division)"
   ]
  },
  {
   "cell_type": "markdown",
   "metadata": {},
   "source": [
    "# Problem 9\n",
    "\n",
    "## Problem Statement\n",
    "Procedure to generate multiplication tables. \n",
    "\n",
    "### Constraints\n",
    "\n",
    "#### Test cases\n",
    "\n",
    "\n",
    "#### Explanation"
   ]
  },
  {
   "cell_type": "code",
   "execution_count": 82,
   "metadata": {},
   "outputs": [
    {
     "name": "stdout",
     "output_type": "stream",
     "text": [
      "enter a value8\n",
      "8 x 1 = 8\n",
      "8 x 2 = 16\n",
      "8 x 3 = 24\n",
      "8 x 4 = 32\n",
      "8 x 5 = 40\n",
      "8 x 6 = 48\n",
      "8 x 7 = 56\n",
      "8 x 8 = 64\n",
      "8 x 9 = 72\n",
      "8 x 10 = 80\n"
     ]
    }
   ],
   "source": [
    "num=int(input(\"enter a value\"))\n",
    "for i in range(1, 11):\n",
    "        print(num,'x',i,'=',num*i)\n",
    "    \n",
    "    \n"
   ]
  },
  {
   "cell_type": "markdown",
   "metadata": {},
   "source": [
    "# Problem 10\n",
    "\n",
    "## Problem Statement\n",
    "Procedure to print the list of factors of a given number\n",
    "\n",
    "### Constraints\n",
    "\n",
    "#### Test cases\n",
    "\n",
    "\n",
    "#### Explanation"
   ]
  },
  {
   "cell_type": "code",
   "execution_count": 95,
   "metadata": {},
   "outputs": [
    {
     "name": "stdout",
     "output_type": "stream",
     "text": [
      "Enter a number: 6\n",
      "the factrors are\n",
      "1\n",
      "2\n",
      "3\n",
      "6\n"
     ]
    }
   ],
   "source": [
    "\n",
    "def print_factors(x):\n",
    "    print(\"the factrors are\")\n",
    "   \n",
    "    for i in range(1, x + 1):\n",
    "        if x % i == 0:\n",
    "            print(i)\n",
    "num = int(input(\"Enter a number: \"))\n",
    "\n",
    "print_factors(num)"
   ]
  },
  {
   "cell_type": "markdown",
   "metadata": {},
   "source": [
    "# Problem 11\n",
    "\n",
    "## Problem Statement\n",
    "Procedure to check if a given number is Prime and returns a Boolean value.\n",
    "\n",
    "### Constraints\n",
    "\n",
    "#### Test cases\n",
    "\n",
    "\n",
    "#### Explanation"
   ]
  },
  {
   "cell_type": "code",
   "execution_count": null,
   "metadata": {},
   "outputs": [],
   "source": [
    "num = int(input(\"Enter a number: \"))\n",
    "if num > 1:\n",
    "   \n",
    "   for i in range(2,num):\n",
    "        \n",
    "        if (num % i) == 0:\n",
    "            \n",
    "            print(num,\"is not a prime number\")\n",
    "            print(i,\"times\",num//i,\"is\",num)\n",
    "        break\n",
    "    else:\n",
    "        \n",
    "        print(num,\"is a prime number\")\n",
    "       \n",
    "    else:\n",
    "    print(num,\"is not a prime number\")"
   ]
  },
  {
   "cell_type": "code",
   "execution_count": null,
   "metadata": {},
   "outputs": [],
   "source": [
    "# Python program to check if  \n",
    "# given number is prime or not \n",
    "  \n",
    "num = 11\n",
    "  \n",
    "# If given number is greater than 1 \n",
    "if num > 1: \n",
    "      \n",
    "   # Iterate from 2 to n / 2  \n",
    "   for i in range(2, num//2): \n",
    "         \n",
    "       # If num is divisible by any number between  \n",
    "       # 2 and n / 2, it is not prime  \n",
    "           if (num % i) == 0: \n",
    "                   print(num, \"is not a prime number\") \n",
    "                       break\n",
    "    else: \n",
    "        print(num, \"is a prime number\") \n",
    "  \n",
    " else: \n",
    "    print(num, \"is not a prime number\") \n"
   ]
  },
  {
   "cell_type": "code",
   "execution_count": null,
   "metadata": {},
   "outputs": [],
   "source": [
    "11\n"
   ]
  }
 ],
 "metadata": {
  "kernelspec": {
   "display_name": "Python 3",
   "language": "python",
   "name": "python3"
  },
  "language_info": {
   "codemirror_mode": {
    "name": "ipython",
    "version": 3
   },
   "file_extension": ".py",
   "mimetype": "text/x-python",
   "name": "python",
   "nbconvert_exporter": "python",
   "pygments_lexer": "ipython3",
   "version": "3.7.3"
  }
 },
 "nbformat": 4,
 "nbformat_minor": 2
}
