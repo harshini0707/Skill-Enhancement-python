{
 "cells": [
  {
   "cell_type": "markdown",
   "metadata": {},
   "source": [
    "# Day 5\n",
    "\n",
    "# Problem 1:\n",
    "\n",
    "## Problem statement\n",
    "## Factorial of a given number as a procedure\n",
    "\n",
    "### Test cases\n",
    "* Factorial(5) -> 120\n",
    "* Factorial (6) -> 720\n",
    "\n"
   ]
  },
  {
   "cell_type": "code",
   "execution_count": 12,
   "metadata": {},
   "outputs": [
    {
     "data": {
      "text/plain": [
       "720"
      ]
     },
     "execution_count": 12,
     "metadata": {},
     "output_type": "execute_result"
    }
   ],
   "source": [
    "def factorial(n):\n",
    "  if n==0 or n==1:\n",
    "    return 1\n",
    "  else:\n",
    "    return (n*factorial(n-1))\n",
    "\n",
    "factorial(6)"
   ]
  },
  {
   "cell_type": "code",
   "execution_count": 14,
   "metadata": {},
   "outputs": [
    {
     "data": {
      "text/plain": [
       "120"
      ]
     },
     "execution_count": 14,
     "metadata": {},
     "output_type": "execute_result"
    }
   ],
   "source": [
    "factorial(5)"
   ]
  },
  {
   "cell_type": "markdown",
   "metadata": {},
   "source": [
    "# Day 5\n",
    "\n",
    "# Problem 2:\n",
    "\n",
    "## Problem statement\n",
    "## Procedure to generate multiplication tables.\n",
    "\n",
    "### Test cases\n",
    "*   MT(3, 5, 7) -> 3 X 5 = 15\n",
    "\n",
    "                   3 X 6 = 18\n",
    "\n",
    "                   3 X 7 = 21"
   ]
  },
  {
   "cell_type": "code",
   "execution_count": 34,
   "metadata": {},
   "outputs": [
    {
     "name": "stdout",
     "output_type": "stream",
     "text": [
      "3 x 5 = 15\n",
      "3 x 6 = 18\n",
      "3 x 7 = 21\n"
     ]
    }
   ],
   "source": [
    "def MT(n,f,t):\n",
    "    for i in range(f,t+1):\n",
    "        print(n,'x',i,'=',num*i)\n",
    "    \n",
    "\n",
    "MT(3,5,7)\n",
    "     \n",
    "            \n",
    "   \n"
   ]
  },
  {
   "cell_type": "markdown",
   "metadata": {},
   "source": [
    "# Day 5\n",
    "\n",
    "# Problem 3:\n",
    "\n",
    "## Problem statement\n",
    "## Procedure to print the list of factors of a given number.\n",
    "\n",
    "### Test cases\n",
    "* FactorList(6)  ->  1 2 3 6\n",
    "* FactorList (9) ->   1 3 9\n",
    "* FactorList (19) ->  1  19\n",
    "\n"
   ]
  },
  {
   "cell_type": "code",
   "execution_count": 7,
   "metadata": {},
   "outputs": [
    {
     "name": "stdout",
     "output_type": "stream",
     "text": [
      "1\n",
      "2\n",
      "3\n",
      "4\n",
      "6\n",
      "12\n",
      "103\n",
      "206\n",
      "309\n",
      "412\n",
      "618\n",
      "1236\n"
     ]
    }
   ],
   "source": [
    "def Factorlist(x):\n",
    "   for i in range(1,x+1):\n",
    "    if x%i==0:\n",
    "        print(i)\n",
    "    \n",
    "    \n",
    "Factorlist(1236)    "
   ]
  },
  {
   "cell_type": "markdown",
   "metadata": {},
   "source": [
    "# Day 5\n",
    "\n",
    "# Problem 4:\n",
    "\n",
    "## Problem statement\n",
    "## Procedure to check if a given number is Prime and returns a Boolean value\n",
    "\n",
    "### Test cases\n",
    "* IsPrime(7) -> True\n",
    "* IsPrime(9) ->  False"
   ]
  },
  {
   "cell_type": "code",
   "execution_count": 43,
   "metadata": {},
   "outputs": [
    {
     "name": "stdout",
     "output_type": "stream",
     "text": [
      "False\n"
     ]
    }
   ],
   "source": [
    "\n",
    "for i in range(2, num):\n",
    "    if num % i  == 0:\n",
    "        print(\"False\")\n",
    "        break\n",
    "else:\n",
    "    print(\"True\")"
   ]
  },
  {
   "cell_type": "markdown",
   "metadata": {},
   "source": [
    "# Day 5\n",
    "\n",
    "# Problem 5:\n",
    "\n",
    "## Problem statement\n",
    "## Procedure to count the number of digits in a given number\n",
    "\n",
    "### Test cases\n",
    "* CountDigits(123456) ->  6\n",
    "* CountDigits (0) ->  1"
   ]
  },
  {
   "cell_type": "code",
   "execution_count": 64,
   "metadata": {},
   "outputs": [
    {
     "data": {
      "text/plain": [
       "6"
      ]
     },
     "execution_count": 64,
     "metadata": {},
     "output_type": "execute_result"
    }
   ],
   "source": [
    "import math\n",
    "def Countdigits(n):\n",
    "    return math.floor(math.log(n, 10)+1)\n",
    "Countdigits(123456)"
   ]
  },
  {
   "cell_type": "code",
   "execution_count": 66,
   "metadata": {},
   "outputs": [
    {
     "data": {
      "text/plain": [
       "1"
      ]
     },
     "execution_count": 66,
     "metadata": {},
     "output_type": "execute_result"
    }
   ],
   "source": [
    "Countdigits(2)"
   ]
  },
  {
   "cell_type": "markdown",
   "metadata": {},
   "source": [
    "# Day 5\n",
    "\n",
    "# Problem 6:\n",
    "\n",
    "## Problem statement\n",
    "##  Procedure to check if a given number is a Perfect Number. ( Perfect number is a number for which the sum of all it's divisors is equal to the number itself)\n",
    "\n",
    "### Test cases\n",
    " * IsPerfect(3) -> False\n",
    " * IsPerfect (6) -> True"
   ]
  },
  {
   "cell_type": "code",
   "execution_count": 84,
   "metadata": {},
   "outputs": [
    {
     "data": {
      "text/plain": [
       "False"
      ]
     },
     "execution_count": 84,
     "metadata": {},
     "output_type": "execute_result"
    }
   ],
   "source": [
    "def isnumber(n):\n",
    "    sum = 0\n",
    "    for x in range(1, n):\n",
    "        if n % x == 0:\n",
    "            sum += x\n",
    "    return sum == n\n",
    "isnumber(3)"
   ]
  },
  {
   "cell_type": "code",
   "execution_count": 86,
   "metadata": {},
   "outputs": [
    {
     "data": {
      "text/plain": [
       "True"
      ]
     },
     "execution_count": 86,
     "metadata": {},
     "output_type": "execute_result"
    }
   ],
   "source": [
    "perfect_number(6)"
   ]
  },
  {
   "cell_type": "markdown",
   "metadata": {},
   "source": [
    "# Day 5\n",
    "\n",
    "# Problem 7:\n",
    "\n",
    "## Problem statement\n",
    "##   Procedure to generate the first N perfect numbers. \n",
    "\n",
    "### Test cases\n",
    "* GeneratePerfect(2) ->  6   28\n",
    "* GeneratePerfect (4) ->  6   28   496    8128"
   ]
  },
  {
   "cell_type": "code",
   "execution_count": null,
   "metadata": {},
   "outputs": [],
   "source": []
  },
  {
   "cell_type": "code",
   "execution_count": null,
   "metadata": {},
   "outputs": [],
   "source": []
  }
 ],
 "metadata": {
  "kernelspec": {
   "display_name": "Python 3",
   "language": "python",
   "name": "python3"
  },
  "language_info": {
   "codemirror_mode": {
    "name": "ipython",
    "version": 3
   },
   "file_extension": ".py",
   "mimetype": "text/x-python",
   "name": "python",
   "nbconvert_exporter": "python",
   "pygments_lexer": "ipython3",
   "version": "3.7.3"
  }
 },
 "nbformat": 4,
 "nbformat_minor": 2
}
