{
 "cells": [
  {
   "cell_type": "markdown",
   "metadata": {},
   "source": [
    "# Day 4\n",
    "\n",
    "# Problem 1\n",
    "\n",
    "## ProblemStatement\n",
    "\n",
    "##  evaluate the polynomial f(x)= x^3 + 2 X^2 + 3 X - 10 for x in the range [1, 1000]\n",
    "\n",
    "#### Constraints\n",
    "##### Given number will be in the range [1, 1000]\n",
    "\n",
    "#### Test cases\n",
    "* Check x(2) -> True\n",
    "* Check x(16) -> True\n",
    "* Check x(999) -> False"
   ]
  },
  {
   "cell_type": "code",
   "execution_count": 9,
   "metadata": {},
   "outputs": [
    {
     "data": {
      "text/plain": [
       "999001988"
      ]
     },
     "execution_count": 9,
     "metadata": {},
     "output_type": "execute_result"
    }
   ],
   "source": [
    "def evaluatepolynomial(x):\n",
    "    x=(x**3)+(2*(x**2))+(3*(x))-10\n",
    "    return x\n",
    "evaluatepolynomial(999)\n",
    "  "
   ]
  },
  {
   "cell_type": "markdown",
   "metadata": {},
   "source": [
    "# Day 4\n",
    "\n",
    "## Problem 2 \n",
    "\n",
    "## ProblemStatement\n",
    "## Determining whether a number is Even or Odd\n",
    "\n",
    "\n",
    "#### Test cases\n",
    "* Check x=2 -> Even\n",
    "* Check x=5 -> Odd\n",
    "* Check x=1047 ->odd"
   ]
  },
  {
   "cell_type": "code",
   "execution_count": 11,
   "metadata": {},
   "outputs": [
    {
     "name": "stdout",
     "output_type": "stream",
     "text": [
      "Odd\n"
     ]
    }
   ],
   "source": [
    "def evenodd(x):\n",
    "    if(x % 2 == 0):\n",
    "        print(\"Even\")\n",
    "   \n",
    "    else:\n",
    "        print(\"Odd\")\n",
    "         \n",
    "evenodd(1047)"
   ]
  },
  {
   "cell_type": "markdown",
   "metadata": {},
   "source": [
    "# Day 4\n",
    "\n",
    "## Problem 3\n",
    "\n",
    "## ProblemStatement\n",
    "## Finding the greatest of 3 numbers\n",
    "\n",
    "\n",
    "### Test cases"
   ]
  },
  {
   "cell_type": "code",
   "execution_count": 13,
   "metadata": {},
   "outputs": [
    {
     "name": "stdout",
     "output_type": "stream",
     "text": [
      "14\n"
     ]
    }
   ],
   "source": [
    "def maximum(a, b, c):\n",
    "    if (a >= b) and  (a >= c):\n",
    "        \n",
    "        largest=a\n",
    "        \n",
    "    elif (b >= a) and (b >= c):\n",
    "        largest=b\n",
    "        \n",
    "            \n",
    "    else:\n",
    "        largest=c\n",
    "        \n",
    "    return(largest)\n",
    "a = 10\n",
    "b = 14\n",
    "c = 12\n",
    "print(maximum(a, b, c)) \n",
    "                  "
   ]
  },
  {
   "cell_type": "markdown",
   "metadata": {},
   "source": [
    "# Day 4\n",
    "\n",
    "## Problem 4\n",
    "\n",
    "## ProblemStatement\n",
    "## Testing Divisibility with 2 and 3 but not 4\n",
    "\n",
    "\n",
    "### Test cases"
   ]
  },
  {
   "cell_type": "code",
   "execution_count": 15,
   "metadata": {},
   "outputs": [
    {
     "data": {
      "text/plain": [
       "False"
      ]
     },
     "execution_count": 15,
     "metadata": {},
     "output_type": "execute_result"
    }
   ],
   "source": [
    "def checkDivisibility(n):\n",
    "    if(n%2==0 and n%3==0 and n%4!=0):\n",
    "        return True\n",
    "    else:\n",
    "        return False\n",
    "    \n",
    "checkDivisibility(20)\n",
    "    "
   ]
  },
  {
   "cell_type": "markdown",
   "metadata": {},
   "source": [
    "# Day 4\n",
    "\n",
    "## Problem 5\n",
    "\n",
    "## ProblemStatement\n",
    "## Given 2 ints, a and b, return True if one if them is 10 or if their sum is 10.\n",
    "\n",
    "\n",
    "### Test cases\n",
    "* makes10(9, 10) → True\n",
    "* makes10(9, 9) → False\n",
    "* makes10(1, 9) → True"
   ]
  },
  {
   "cell_type": "code",
   "execution_count": 16,
   "metadata": {},
   "outputs": [
    {
     "data": {
      "text/plain": [
       "True"
      ]
     },
     "execution_count": 16,
     "metadata": {},
     "output_type": "execute_result"
    }
   ],
   "source": [
    "def makes10(a,b):\n",
    "    if (a==10 or b==10) or (a+b==10):\n",
    "        return True\n",
    "    else:\n",
    "        return False\n",
    "\n",
    "makes10(1,9)\n"
   ]
  },
  {
   "cell_type": "markdown",
   "metadata": {},
   "source": [
    "# Day 4\n",
    "\n",
    "## Problem 6\n",
    "\n",
    "## ProblemStatement\n",
    "## Given 2 int values, return True if one is negative and one is positive. Except if the parameter \"negative\" is True, then return True only if both are negative.\n",
    "\n",
    "\n",
    "### Test cases\n",
    "* pos_neg(1, -1, False) → True\n",
    "* pos_neg(-1, 1, False) → True\n",
    "* pos_neg(-4, -5, True) → True"
   ]
  },
  {
   "cell_type": "code",
   "execution_count": 17,
   "metadata": {},
   "outputs": [
    {
     "data": {
      "text/plain": [
       "False"
      ]
     },
     "execution_count": 17,
     "metadata": {},
     "output_type": "execute_result"
    }
   ],
   "source": [
    "def pos_neg(a,b,c):\n",
    "    return (a>0 and b<0 and c==False) or (a<0 and b>0 and c==False) or (a<0 and b<0 and c==True)\n",
    "  \n",
    "pos_neg(-1,-1,False)\n",
    "    "
   ]
  },
  {
   "cell_type": "markdown",
   "metadata": {},
   "source": [
    "# Day 4\n",
    "\n",
    "## Problem 7\n",
    "\n",
    "## ProblemStatement\n",
    "## Given an int n, return True if it is within 10 of 100 or 200. Note: abs(num) computes the absolute value of a number.\n",
    "\n",
    "\n",
    "### Test cases\n",
    "* near_hundred(93) → True\n",
    "* near_hundred(90) → True\n",
    "* near_hundred(89) → False"
   ]
  },
  {
   "cell_type": "code",
   "execution_count": 18,
   "metadata": {},
   "outputs": [
    {
     "data": {
      "text/plain": [
       "True"
      ]
     },
     "execution_count": 18,
     "metadata": {},
     "output_type": "execute_result"
    }
   ],
   "source": [
    "def hundred(n):\n",
    "    return(n>90 and n<100) or (n>190 and n<200)\n",
    "\n",
    "hundred(99)\n",
    "            "
   ]
  },
  {
   "cell_type": "markdown",
   "metadata": {},
   "source": [
    "# Day 4\n",
    "\n",
    "## Problem 8\n",
    "\n",
    "## ProblemStatement\n",
    "### Designing procedures for Basic Arithmetic operations\n",
    "### Create a Random Number Generator as a Procedure which takes the Range(lb, ub) and returns a Random number in the given range\n",
    "### Procedure to print N natural numbers.\n",
    "### Procedure to calculate the factorial of a given number\n",
    "\n"
   ]
  },
  {
   "cell_type": "code",
   "execution_count": 20,
   "metadata": {},
   "outputs": [
    {
     "name": "stdout",
     "output_type": "stream",
     "text": [
      "1\n",
      "2\n",
      "3\n",
      "4\n",
      "5\n",
      "6\n",
      "7\n",
      "8\n",
      "9\n",
      "10\n",
      "11\n",
      "12\n",
      "13\n",
      "14\n",
      "15\n"
     ]
    }
   ],
   "source": [
    "def natural(n):\n",
    "    for n in range(1,n+1):\n",
    "        print(n)\n",
    "natural(15)"
   ]
  },
  {
   "cell_type": "code",
   "execution_count": 22,
   "metadata": {},
   "outputs": [
    {
     "data": {
      "text/plain": [
       "5040"
      ]
     },
     "execution_count": 22,
     "metadata": {},
     "output_type": "execute_result"
    }
   ],
   "source": [
    "def factorial(n):\n",
    "  if n==0 or n==1:\n",
    "    return 1\n",
    "  else:\n",
    "    return (n*factorial(n-1))\n",
    "\n",
    "factorial(7)"
   ]
  },
  {
   "cell_type": "code",
   "execution_count": 23,
   "metadata": {},
   "outputs": [
    {
     "name": "stdout",
     "output_type": "stream",
     "text": [
      "addition 10 substraction 2 multiplication 24\n"
     ]
    }
   ],
   "source": [
    "def basicarithmatic(a,b):\n",
    " print(\"addition\", a+b , \"substraction\", a-b , \"multiplication\", a*b)\n",
    "    \n",
    "basicarithmatic(6,4)"
   ]
  }
 ],
 "metadata": {
  "kernelspec": {
   "display_name": "Python 3",
   "language": "python",
   "name": "python3"
  },
  "language_info": {
   "codemirror_mode": {
    "name": "ipython",
    "version": 3
   },
   "file_extension": ".py",
   "mimetype": "text/x-python",
   "name": "python",
   "nbconvert_exporter": "python",
   "pygments_lexer": "ipython3",
   "version": "3.7.3"
  }
 },
 "nbformat": 4,
 "nbformat_minor": 2
}
