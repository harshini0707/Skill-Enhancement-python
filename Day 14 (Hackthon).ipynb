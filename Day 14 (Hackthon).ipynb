{
 "cells": [
  {
   "cell_type": "markdown",
   "metadata": {},
   "source": [
    "## Day 14\n",
    "## Hackthon\n",
    "\n",
    "For a given integer N, find the total number of  Non - Prime Factors in the range (1, N) (both exclusive) that do not contain the digit 0\n",
    "nonPrimeFactorsCount( 100 ) -> 2\n",
    "nonPrimeFactorsCount( 50 )  ->  1"
   ]
  },
  {
   "cell_type": "code",
   "execution_count": 1,
   "metadata": {},
   "outputs": [
    {
     "name": "stdout",
     "output_type": "stream",
     "text": [
      "2\n"
     ]
    }
   ],
   "source": [
    "def FactorsCount(n):\n",
    "    a=[]\n",
    "    for i in range(1,n):\n",
    "        if(n%i==0):\n",
    "            a.append(i)\n",
    "    return(a)\n",
    "def isprime(n):\n",
    "    arry=FactorsCount(n)\n",
    "    return len(arry)==2 and arry[0]==1 and arry[len(arry)-1]==n\n",
    "def nonPrimeFactorsCount(n):\n",
    "    m=[]\n",
    "    count=0\n",
    "    l=FactorsCount(n)\n",
    "    for i in range(1,len(l)-1):\n",
    "        if(isprime(l[i])==False):\n",
    "            m.append(l[i])\n",
    "    s = [str(i) for i in m] \n",
    "    for i in range(len(s)):\n",
    "        if '0' in s[i]:\n",
    "            count=count+1           \n",
    "    print(count)\n",
    "nonPrimeFactorsCount(100)\n",
    "\n"
   ]
  },
  {
   "cell_type": "markdown",
   "metadata": {},
   "source": [
    "## Day 14\n",
    "\n",
    "\n",
    "For a given integer N. Find the least positive integer X made up of only 9's and 0's, such that, X is a multiple of N.\n",
    "\n",
    "X is made up of one or more occurrences of 9 and zero or more occurrences of 0."
   ]
  },
  {
   "cell_type": "code",
   "execution_count": 2,
   "metadata": {},
   "outputs": [
    {
     "name": "stdout",
     "output_type": "stream",
     "text": [
      "90\n"
     ]
    }
   ],
   "source": [
    "def multiple(n):\n",
    "        i=2\n",
    "        while i>1:\n",
    "            count=0\n",
    "            x=n*i\n",
    "            #print(x)\n",
    "            y=str(x) \n",
    "            #print(y)\n",
    "            #print(len(y))\n",
    "            for j in range(0,len(y)):\n",
    "                #print(y[i])\n",
    "                if(y[j]=='0' or y[j]=='9'):\n",
    "                    count=count+1\n",
    "                    #print(count)\n",
    "            i+=1\n",
    "            if(count==len(y)):\n",
    "                return y\n",
    "print(multiple(5))"
   ]
  },
  {
   "cell_type": "code",
   "execution_count": null,
   "metadata": {},
   "outputs": [],
   "source": []
  }
 ],
 "metadata": {
  "kernelspec": {
   "display_name": "Python 3",
   "language": "python",
   "name": "python3"
  },
  "language_info": {
   "codemirror_mode": {
    "name": "ipython",
    "version": 3
   },
   "file_extension": ".py",
   "mimetype": "text/x-python",
   "name": "python",
   "nbconvert_exporter": "python",
   "pygments_lexer": "ipython3",
   "version": "3.6.5"
  }
 },
 "nbformat": 4,
 "nbformat_minor": 2
}
