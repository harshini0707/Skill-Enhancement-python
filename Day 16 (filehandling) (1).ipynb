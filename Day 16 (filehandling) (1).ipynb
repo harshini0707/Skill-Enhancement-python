{
 "cells": [
  {
   "cell_type": "markdown",
   "metadata": {},
   "source": [
    "# Problem solving and programming\n",
    "## Day No \n",
    "## Date 16 May 2019\n",
    "\n",
    "Define function to read data from text "
   ]
  },
  {
   "cell_type": "code",
   "execution_count": 7,
   "metadata": {},
   "outputs": [
    {
     "data": {
      "text/plain": [
       "'hii how r u\\n'"
      ]
     },
     "execution_count": 7,
     "metadata": {},
     "output_type": "execute_result"
    }
   ],
   "source": [
    "def raadFileData(Filename):\n",
    "    f=open(Filename,'r')\n",
    "    \n",
    "    filedata=f.readline()\n",
    "    \n",
    "    f.close()\n",
    "    return filedata\n",
    "raadFileData(\"DataFiles/data.txt\")"
   ]
  },
  {
   "cell_type": "code",
   "execution_count": 9,
   "metadata": {},
   "outputs": [
    {
     "data": {
      "text/plain": [
       "'hii how r u\\n'"
      ]
     },
     "execution_count": 9,
     "metadata": {},
     "output_type": "execute_result"
    }
   ],
   "source": [
    "def raadFileData(Filename):\n",
    "    with open(Filename,'r') as f:\n",
    "        filedata=f.readline()\n",
    "    return filedata\n",
    "raadFileData(\"DataFiles/data.txt\")"
   ]
  },
  {
   "cell_type": "code",
   "execution_count": 13,
   "metadata": {},
   "outputs": [
    {
     "name": "stdout",
     "output_type": "stream",
     "text": [
      "hii how r u\n",
      "python workshop\n",
      "doing well"
     ]
    }
   ],
   "source": [
    "def raadFileData(Filename):\n",
    "    with open(Filename,'r') as f:\n",
    "        for line in f:\n",
    "            print(line,end='')\n",
    "    return \n",
    "raadFileData(\"DataFiles/data.txt\")"
   ]
  },
  {
   "cell_type": "code",
   "execution_count": 17,
   "metadata": {},
   "outputs": [],
   "source": [
    "def raadFileData(Filename):\n",
    "    with open(Filename,'r') as f:\n",
    "        print(f.read())\n",
    "    return \n",
    "\n",
    "def writeDataintoFile(Filename,data):\n",
    "    with open(Filename,'w') as f:\n",
    "        f.write(data)\n",
    "    return\n",
    "#raadFileData(\"DataFiles/data.txt\")\n",
    "writeDataintoFile(\"DataFiles/write.txt\", \"hii new data\",)\n",
    "\n"
   ]
  },
  {
   "cell_type": "code",
   "execution_count": 6,
   "metadata": {},
   "outputs": [],
   "source": [
    "def writeDataintoFile(Filename,data,mode):\n",
    "    with open(Filename,mode) as f:\n",
    "        f.write(data)\n",
    "    return \n",
    "writeDataintoFile(\"DataFiles/write.txt\", \"appended data\", 'a')"
   ]
  },
  {
   "cell_type": "markdown",
   "metadata": {},
   "source": [
    "# Problem solving and programming\n",
    "## Day No\n",
    "## Date 16 May 2019\n",
    "##### Define a function to generate marks data file for 1300 students, such that each marks is entered in new line. Marks range from 0 to 100(inclusive as random number) \n",
    "\n",
    "#### constraints\n"
   ]
  },
  {
   "cell_type": "code",
   "execution_count": null,
   "metadata": {},
   "outputs": [],
   "source": [
    "\n",
    "        \n",
    "    "
   ]
  },
  {
   "cell_type": "code",
   "execution_count": 12,
   "metadata": {},
   "outputs": [],
   "source": [
    "import random\n",
    "def generateMarks(Filename):\n",
    "    with open(Filename,'w') as f:\n",
    "              for i in range(1300):\n",
    "                marks=random.randint(0,100)\n",
    "                f.write(str(marks)+'\\n')\n",
    "    return      \n",
    "generateMarks(\"DataFiles/write.txt\") \n"
   ]
  },
  {
   "cell_type": "markdown",
   "metadata": {},
   "source": [
    "# Problem solving and programming\n",
    "## Day No\n",
    "## Date 16 May 2019\n",
    "\n",
    "Generate report on the marks data with the following  indicators\n",
    "\n",
    "*highest marks\n",
    "*lowest marks\n",
    "*Average marks\n",
    "*Number of student with Disction(>80)\n",
    "*Number of student with first class(>70) \n",
    "*Number of student with second class(>60) \n",
    "*Number of student with third class(>50)\n",
    "*Number of stubdent failed(<40)\n"
   ]
  },
  {
   "cell_type": "code",
   "execution_count": 98,
   "metadata": {},
   "outputs": [
    {
     "name": "stdout",
     "output_type": "stream",
     "text": [
      "Number of student with Disction 22\n",
      "Number of student with first 5\n",
      "Number of student with second 6\n",
      "Number of student with third 18\n",
      "Number of student with failed 44\n",
      "51.717474980754425\n",
      "100\n",
      "0\n"
     ]
    }
   ],
   "source": [
    "import re\n",
    "def generatereport(Filename):\n",
    "    with open(Filename,'r') as f:\n",
    "        for line in f:\n",
    "            marks=f.read()\n",
    "            l=re.split(r'\\n',marks)  \n",
    "    l=list(map(int,l[:len(l)-1]))\n",
    "    sum=0\n",
    "    failed=0\n",
    "    d=0\n",
    "    f=0\n",
    "    s=0\n",
    "    t=0\n",
    "    for i in range(len(l)):\n",
    "        sum=sum+l[i]\n",
    "    for i in range(l[i]):    \n",
    "        if(l[i]>80):\n",
    "            d=d+1\n",
    "        elif(l[i]>70) and (l[i]<=80):\n",
    "            f=f+1\n",
    "        elif(l[i]>60) and (l[i]<=70):\n",
    "            s=s+1\n",
    "        elif(l[i]>50) and (l[i]<=60):\n",
    "            t=t+1\n",
    "        else:\n",
    "            failed=failed+1\n",
    "    print(\"Number of student with Disction\",d)\n",
    "    print(\"Number of student with first\",f)\n",
    "    print(\"Number of student with second\",s)\n",
    "    print(\"Number of student with third\",t)\n",
    "    print(\"Number of student with failed\",failed)\n",
    "      \n",
    "    print(sum/len(l))     \n",
    "    print(max(l))\n",
    "    print(min(l))\n",
    "generatereport(\"DataFiles/write.txt\") \n",
    "            \n",
    "            \n",
    "            \n",
    "        \n",
    "    "
   ]
  },
  {
   "cell_type": "code",
   "execution_count": 77,
   "metadata": {
    "scrolled": true
   },
   "outputs": [
    {
     "name": "stdout",
     "output_type": "stream",
     "text": [
      "[1, 2, 3]\n"
     ]
    }
   ],
   "source": [
    "results = [\"1\", \"2\", \"3\"]\n",
    "results = [int(i) for i in results]\n",
    "print(results)"
   ]
  }
 ],
 "metadata": {
  "kernelspec": {
   "display_name": "Python 3",
   "language": "python",
   "name": "python3"
  },
  "language_info": {
   "codemirror_mode": {
    "name": "ipython",
    "version": 3
   },
   "file_extension": ".py",
   "mimetype": "text/x-python",
   "name": "python",
   "nbconvert_exporter": "python",
   "pygments_lexer": "ipython3",
   "version": "3.6.5"
  }
 },
 "nbformat": 4,
 "nbformat_minor": 2
}
