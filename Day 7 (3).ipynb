{
 "cells": [
  {
   "cell_type": "markdown",
   "metadata": {},
   "source": [
    "## Day 7\n",
    "## Design a procedure to search for an element in a given array\n",
    "Test cases\n",
    "search([1,2, 3 ,5, 8, 9], 9) -> 6"
   ]
  },
  {
   "cell_type": "code",
   "execution_count": 29,
   "metadata": {},
   "outputs": [
    {
     "name": "stdout",
     "output_type": "stream",
     "text": [
      "5\n"
     ]
    }
   ],
   "source": [
    "def search(a,key):\n",
    "    if (len(a)!=0):\n",
    "        for i in range(len(a)):\n",
    "            if(a[i]==key):\n",
    "                print(i+1)              \n",
    "    else:\n",
    "        print(\"empty list\")      \n",
    "search([1,2, 3 ,5, 8, 9], 8)     \n",
    "    "
   ]
  },
  {
   "cell_type": "markdown",
   "metadata": {},
   "source": [
    "## Day 7 \n",
    "## Design a procedure to identify all unique elements in an array\n",
    "Test case\n",
    "unique([1, 2, 3, 4, 3, 2, 1, 0, 0]) -> [1, 2, 3, 4, 0]\n",
    "unique([9]) -> [9]"
   ]
  },
  {
   "cell_type": "code",
   "execution_count": 37,
   "metadata": {},
   "outputs": [
    {
     "name": "stdout",
     "output_type": "stream",
     "text": [
      "[1, 2, 3, 4, 0]\n"
     ]
    }
   ],
   "source": [
    "def unique(l):\n",
    "    a=[]\n",
    "    for i in l:\n",
    "        if i not in a:\n",
    "            a.append(i)\n",
    "    print(a)\n",
    "unique([1, 2, 3, 4, 3, 2, 1, 0, 0])\n",
    "                \n",
    "        "
   ]
  },
  {
   "cell_type": "markdown",
   "metadata": {},
   "source": [
    "## Day 7 \n",
    "## Design a procedure to sort a given array in ascending order\n",
    "Test cases\n",
    "sort([3, 2, 1, 4, 4, 5, 6]) -> [1, 2, 3, 4, 4, 5, 6]\n",
    "sort([1, 2, 3]) -> [1, 2, 3]"
   ]
  },
  {
   "cell_type": "code",
   "execution_count": 39,
   "metadata": {},
   "outputs": [
    {
     "name": "stdout",
     "output_type": "stream",
     "text": [
      "[1, 2, 3, 4, 4, 5, 6]\n"
     ]
    }
   ],
   "source": [
    "def sort(l):\n",
    "    for i in range(len(l)):\n",
    "        for j in range(i+1,len(l)):\n",
    "            if(l[i]>l[j]):\n",
    "                temp=l[i]\n",
    "                l[i]=l[j]\n",
    "                l[j]=temp\n",
    "    print(l)\n",
    "sort([3, 2, 1, 4, 4, 5, 6])"
   ]
  },
  {
   "cell_type": "code",
   "execution_count": null,
   "metadata": {},
   "outputs": [],
   "source": []
  }
 ],
 "metadata": {
  "kernelspec": {
   "display_name": "Python 3",
   "language": "python",
   "name": "python3"
  },
  "language_info": {
   "codemirror_mode": {
    "name": "ipython",
    "version": 3
   },
   "file_extension": ".py",
   "mimetype": "text/x-python",
   "name": "python",
   "nbconvert_exporter": "python",
   "pygments_lexer": "ipython3",
   "version": "3.6.5"
  }
 },
 "nbformat": 4,
 "nbformat_minor": 2
}
