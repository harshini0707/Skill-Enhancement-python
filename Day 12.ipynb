{
 "cells": [
  {
   "cell_type": "markdown",
   "metadata": {},
   "source": [
    "## Day 12\n",
    "## You are given n words. Some words may repeat. For each word, output its number of occurrences. The output order should correspond with the input order of appearance of the word.\n",
    "\n",
    "First line of input contains the total number of words n. Next n lines contain words that need to processed.\n",
    "\n",
    "First line of the output should contain the total number distinct words. Second line of output must contain the frequency of words the same order of their appearance as in the input\n",
    "\n",
    "Sample Input : 6\n",
    "\n",
    "abcd\n",
    "\n",
    "ijkl\n",
    "\n",
    "abcd\n",
    "\n",
    "pqrs\n",
    "\n",
    "abcd\n",
    "\n",
    "ijkl\n",
    "\n",
    "Sample Output : 3\n",
    "\n",
    "3 2 1"
   ]
  },
  {
   "cell_type": "code",
   "execution_count": 1,
   "metadata": {},
   "outputs": [
    {
     "name": "stdout",
     "output_type": "stream",
     "text": [
      "3\n",
      "3\n",
      "2\n",
      "1\n"
     ]
    }
   ],
   "source": [
    "def occurance(l):\n",
    "    count=[]\n",
    "    r=[]\n",
    "    for i in range(len(l)):\n",
    "        c=1\n",
    "        if l[i] not in r:\n",
    "            for j in range(i+1, len(l)):\n",
    "                if(l[i]==l[j]):\n",
    "                    c=c+1\n",
    "            count.append(c)\n",
    "            r.append(l[i])\n",
    "    print(len(r))\n",
    "    for i in range(len(r)):\n",
    "        print(count[i])\n",
    "occurance(['abcd','ijkl','abcd','pqrs','abcd','ijkl'])\n"
   ]
  },
  {
   "cell_type": "markdown",
   "metadata": {},
   "source": [
    "## Day 12\n",
    "### Define a function to validate email addresses based on the following rules.\n",
    "\n",
    "Email should be in the format username@domain.extension username must start with an alphabet and can contain lowercase alphabet, digits, hyphen(-) and underscores( _ ). username must not contain special characters, uppercase letters, whitespaces. Length of username must be in the range (6, 16) Domain can only contain lowercase alphabet and digits with length in range (3, 10) . No special characters are allowed Extension can only contain lower case alphabet and its length must be in the range (2, 4) First line of input contains total number of email addresses n. Next n lines contain n email addresses.\n",
    "\n",
    "Output must contain contain n lines with either 'Valid' or 'Invalid'"
   ]
  },
  {
   "cell_type": "code",
   "execution_count": 2,
   "metadata": {},
   "outputs": [
    {
     "name": "stdout",
     "output_type": "stream",
     "text": [
      "6\n",
      "abc456@gmail.com\n",
      "456abc@yahoo.com\n",
      "abc_456@gitam.edu1\n",
      "abc-456@abc-d.in\n",
      "python@python.python\n",
      "456@edu.edu\n",
      "['abc456@gmail.com', '456abc@yahoo.com', 'abc_456@gitam.edu1', 'abc-456@abc-d.in', 'python@python.python', '456@edu.edu']\n",
      "valid\n",
      "invalid\n",
      "valid\n",
      "invalid\n",
      "valid\n",
      "invalid\n"
     ]
    }
   ],
   "source": [
    "import re\n",
    "email=[] \n",
    "def emailvalidation(email):\n",
    "    print(email)\n",
    "    output=[]\n",
    "    p=re.compile(\"[a-z][a-z0-9-_]{5,15}@[a-z]{3,10}\\.[a-z]{2,4}\")\n",
    "    for i in range(len(email)):\n",
    "        r=p.match(email[i])\n",
    "        if r is not None:\n",
    "            output.append(\"valid\")\n",
    "        else:\n",
    "            output.append(\"invalid\")\n",
    "    for i in range(len(output)):\n",
    "        print(output[i])     \n",
    "n=int(input())\n",
    "for i in range(n):\n",
    "    s=input()\n",
    "    email.append(s)\n",
    "emailvalidation(email)      \n"
   ]
  },
  {
   "cell_type": "code",
   "execution_count": null,
   "metadata": {},
   "outputs": [],
   "source": []
  }
 ],
 "metadata": {
  "kernelspec": {
   "display_name": "Python 3",
   "language": "python",
   "name": "python3"
  },
  "language_info": {
   "codemirror_mode": {
    "name": "ipython",
    "version": 3
   },
   "file_extension": ".py",
   "mimetype": "text/x-python",
   "name": "python",
   "nbconvert_exporter": "python",
   "pygments_lexer": "ipython3",
   "version": "3.6.5"
  }
 },
 "nbformat": 4,
 "nbformat_minor": 2
}
