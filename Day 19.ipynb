{
 "cells": [
  {
   "cell_type": "code",
   "execution_count": 12,
   "metadata": {},
   "outputs": [
    {
     "data": {
      "text/plain": [
       "20"
      ]
     },
     "execution_count": 12,
     "metadata": {},
     "output_type": "execute_result"
    }
   ],
   "source": [
    "def sequence(x):\n",
    "    count=1\n",
    "    numseq = []     \n",
    "    while x > 1:\n",
    "        if x % 2 == 0:\n",
    "            x = x // 2\n",
    "            count=count+1\n",
    "        else:\n",
    "            x = 3 * x + 1\n",
    "            numseq.append(x)\n",
    "            count=count+1\n",
    "    return count\n",
    "sequence(9)\n"
   ]
  },
  {
   "cell_type": "code",
   "execution_count": 11,
   "metadata": {},
   "outputs": [
    {
     "name": "stdout",
     "output_type": "stream",
     "text": [
      "1 10 20 2.7033000037590682e-05\n",
      "100 200 125 0.0015651720000278146\n",
      "900 1000 174 0.0019562940000241724\n"
     ]
    }
   ],
   "source": [
    "#import timeit\n",
    "def input(a,b):\n",
    "    s=timeit.default_timer()\n",
    "    out=[]\n",
    "    for i in range(a,b):\n",
    "        out.append(sequence(i))\n",
    "    print(a,b,max(out),timeit.default_timer()-s)\n",
    "    #return max(map(sequence,range(a,b+1)))\n",
    "input(1,10)\n",
    "input(100,200)\n",
    "input(900,1000)"
   ]
  },
  {
   "cell_type": "code",
   "execution_count": null,
   "metadata": {},
   "outputs": [],
   "source": [
    "\n",
    "remaining_mines = M \n",
    "remaining_cells = N \n",
    "for i in range(0, N): \n",
    "  chance = float(remaining_mines) / remaining_cels \n",
    "  if random.uniform(0., 1.) < chance: \n",
    "    place_mine(i) \n",
    "    remaining_mines -= 1 \n",
    "  remaining_cells -= 1"
   ]
  },
  {
   "cell_type": "code",
   "execution_count": null,
   "metadata": {},
   "outputs": [],
   "source": [
    "def printntimes(n):\n",
    "    x= \"Hello World\"\n",
    "    print (x * n)\n",
    "printntimes(5)\n"
   ]
  }
 ],
 "metadata": {
  "kernelspec": {
   "display_name": "Python 3",
   "language": "python",
   "name": "python3"
  },
  "language_info": {
   "codemirror_mode": {
    "name": "ipython",
    "version": 3
   },
   "file_extension": ".py",
   "mimetype": "text/x-python",
   "name": "python",
   "nbconvert_exporter": "python",
   "pygments_lexer": "ipython3",
   "version": "3.7.3"
  }
 },
 "nbformat": 4,
 "nbformat_minor": 2
}
