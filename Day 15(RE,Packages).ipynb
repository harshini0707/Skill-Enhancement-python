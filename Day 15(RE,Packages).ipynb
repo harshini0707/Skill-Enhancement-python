{
 "cells": [
  {
   "cell_type": "code",
   "execution_count": 17,
   "metadata": {},
   "outputs": [
    {
     "data": {
      "text/plain": [
       "60"
      ]
     },
     "execution_count": 17,
     "metadata": {},
     "output_type": "execute_result"
    }
   ],
   "source": [
    "import pythonscript.new\n",
    "pythonscript.new.factorial(5)\n"
   ]
  },
  {
   "cell_type": "code",
   "execution_count": 19,
   "metadata": {},
   "outputs": [
    {
     "data": {
      "text/plain": [
       "360"
      ]
     },
     "execution_count": 19,
     "metadata": {},
     "output_type": "execute_result"
    }
   ],
   "source": [
    "from pythonscript import new\n",
    "new.factorial(6)\n"
   ]
  },
  {
   "cell_type": "code",
   "execution_count": 16,
   "metadata": {},
   "outputs": [
    {
     "name": "stdout",
     "output_type": "stream",
     "text": [
      "match\n"
     ]
    }
   ],
   "source": [
    "import re\n",
    "postalPattern='^[1-9][0-9]{5}$'\n",
    "code='502001'\n",
    "\n",
    "phonePatter='^[1-9][0-9]{9}$'\n",
    "ph=\"1234567897\"\n",
    "\n",
    "if re.match(phonePatter,ph):\n",
    "    print(\"match\")\n",
    "else:\n",
    "    print(\"does not match\")"
   ]
  },
  {
   "cell_type": "markdown",
   "metadata": {},
   "source": [
    "#### Define a function that take an array of integers A, and an integer K and returns the longest possible sub-set of A i.e A' such that the sum of no two elements in A' is divisible by K. First line in input contains the length of A and the integer K. Second line of input contains len(A) space-separated integers.\n",
    "\n",
    "Output must contain the length of A' list\n",
    "\n",
    "Sample Input :    4  3\n",
    "\n",
    "1 7 2 4\n",
    "\n",
    "Sample Output : 3"
   ]
  },
  {
   "cell_type": "code",
   "execution_count": 24,
   "metadata": {},
   "outputs": [
    {
     "name": "stdout",
     "output_type": "stream",
     "text": [
      "[[1], [1, 7], [1, 7, 2], [1, 7, 2, 4], [7], [7, 2], [7, 2, 4], [2], [2, 4], [4]]\n"
     ]
    }
   ],
   "source": [
    "def getSubstring(l):\n",
    "    length=len(l)\n",
    "    a=[]\n",
    "    for i in range(length):\n",
    "        for j in range(i,length):\n",
    "            a.append(l[i:j+1])\n",
    "    print(a)\n",
    "getSubstring([1,7,2,4])\n",
    "            "
   ]
  },
  {
   "cell_type": "code",
   "execution_count": 24,
   "metadata": {},
   "outputs": [
    {
     "name": "stdout",
     "output_type": "stream",
     "text": [
      "(1, 2)\n",
      "(1, 3)\n"
     ]
    }
   ],
   "source": [
    "from itertools import permutations\n",
    "lst=list(permutations([1,2,3],2))\n",
    "for i in range(0,len(lst[1])):\n",
    "      print(lst[i])\n"
   ]
  },
  {
   "cell_type": "code",
   "execution_count": 50,
   "metadata": {},
   "outputs": [
    {
     "name": "stdout",
     "output_type": "stream",
     "text": [
      "[(1, 7, 4)]\n",
      "[(1, 4, 7)]\n",
      "[(7, 1, 4)]\n",
      "[(7, 4, 1)]\n",
      "[(4, 1, 7)]\n",
      "[(4, 7, 1)]\n"
     ]
    }
   ],
   "source": [
    "from itertools import permutations\n",
    "def permutation(l,n):\n",
    "        lit=list(permutations(l,3))\n",
    "        for i in range(0,len(lit)):\n",
    "            count=0\n",
    "            empty=[]\n",
    "            perem=list(permutations(lit[i],2))\n",
    "            new=[sum(tup) for tup in perem]\n",
    "            for j in range(0,len(new)):\n",
    "                if(new[j]%n!= 0):\n",
    "                    count=count+1\n",
    "                if(count==len(new)):\n",
    "                    empty.append(lit[i])\n",
    "                    print(empty)\n",
    "        return\n",
    "                  \n",
    "permutation([1,7,2,4],3)\n",
    "\n",
    "    "
   ]
  },
  {
   "cell_type": "code",
   "execution_count": 48,
   "metadata": {},
   "outputs": [
    {
     "name": "stdout",
     "output_type": "stream",
     "text": [
      "[3, 4, 5]\n"
     ]
    }
   ],
   "source": [
    "li = [(1, 2), (1, 3), (2, 3)]\n",
    "print([sum(tup) for tup in li])"
   ]
  },
  {
   "cell_type": "code",
   "execution_count": 103,
   "metadata": {},
   "outputs": [
    {
     "name": "stdout",
     "output_type": "stream",
     "text": [
      "3\n"
     ]
    }
   ],
   "source": [
    "from itertools import permutations\n",
    "def permutation(l,n):\n",
    "        lit=list(permutations(l,len(l)-1))\n",
    "        for i in range(0,len(lit)):\n",
    "            count=0\n",
    "            empty=[]\n",
    "            perem=list(permutations(lit[i],2))\n",
    "            new=[sum(tup) for tup in perem]\n",
    "            for j in range(0,len(new)):\n",
    "                if(new[j]%n!= 0):\n",
    "                    count=count+1\n",
    "                if(count==len(new)):\n",
    "                    empty.append(lit[i])\n",
    "                    final=list(empty[0])            \n",
    "        print(len(final))     \n",
    "        return\n",
    "                  \n",
    "permutation([1,7,2,4],3)"
   ]
  },
  {
   "cell_type": "code",
   "execution_count": 132,
   "metadata": {},
   "outputs": [
    {
     "name": "stdout",
     "output_type": "stream",
     "text": [
      "[(1, 7, 4)]\n",
      "3\n"
     ]
    }
   ],
   "source": [
    "from itertools import permutations\n",
    "def permutation(l,n):\n",
    "        lit=list(permutations(l,len(l)-1))\n",
    "        for i in range(0,len(lit)):\n",
    "            count=0\n",
    "            empty=[]\n",
    "            perem=list(permutations(lit[i],2))\n",
    "            #print(perem)\n",
    "            new=[sum(tup) for tup in perem]\n",
    "            #print(new)\n",
    "            for j in range(0,len(new)):\n",
    "                if(new[j]%n!= 0):\n",
    "                    count=count+1\n",
    "            if(count==len(new)):\n",
    "                empty.append(lit[i])  \n",
    "                print(empty)\n",
    "                break\n",
    "        res = [list(ele) for ele in empty]\n",
    "        c=0\n",
    "        for x in res:\n",
    "            for y in x:\n",
    "                c=c+1\n",
    "\n",
    "        print(c)\n",
    "        return\n",
    "                  \n",
    "permutation([1,7,2,4],3)"
   ]
  },
  {
   "cell_type": "code",
   "execution_count": 131,
   "metadata": {},
   "outputs": [
    {
     "name": "stdout",
     "output_type": "stream",
     "text": [
      "6\n"
     ]
    }
   ],
   "source": [
    "a=[[1, 2, 3], [4, 5, 6]]\n",
    "c=0\n",
    "for x in a:\n",
    "    for y in x:\n",
    "        c=c+1\n",
    "\n",
    "print(c)"
   ]
  },
  {
   "cell_type": "code",
   "execution_count": null,
   "metadata": {},
   "outputs": [],
   "source": []
  }
 ],
 "metadata": {
  "kernelspec": {
   "display_name": "Python 3",
   "language": "python",
   "name": "python3"
  },
  "language_info": {
   "codemirror_mode": {
    "name": "ipython",
    "version": 3
   },
   "file_extension": ".py",
   "mimetype": "text/x-python",
   "name": "python",
   "nbconvert_exporter": "python",
   "pygments_lexer": "ipython3",
   "version": "3.6.5"
  }
 },
 "nbformat": 4,
 "nbformat_minor": 2
}
