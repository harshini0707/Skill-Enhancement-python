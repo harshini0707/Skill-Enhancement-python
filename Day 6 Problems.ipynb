{
 "cells": [
  {
   "cell_type": "markdown",
   "metadata": {},
   "source": [
    "# Day 6\n",
    "# Problem 1:\n",
    "\n",
    "## Problem statement:\n",
    "## Design a procedure calculate the maximum, minimum and average of N numbers\n",
    "\n",
    "### Test cases\n",
    "* data( a[1,2,3,4,5] ) -> Max = 5, Min = 1, Avg = 3"
   ]
  },
  {
   "cell_type": "code",
   "execution_count": 14,
   "metadata": {},
   "outputs": [
    {
     "name": "stdout",
     "output_type": "stream",
     "text": [
      "Max= 5 , Min= 1 , Avg= 3\n"
     ]
    }
   ],
   "source": [
    "import statistics as s\n",
    "def maxminavg(a):\n",
    "    print(\"Max=\",max(a),\",\" ,\"Min=\",min(a),\",\",\"Avg=\",s.mean(a))\n",
    "      \n",
    "a=[1,2,3,4,5]        \n",
    "maxminavg(a)     \n",
    "   "
   ]
  },
  {
   "cell_type": "markdown",
   "metadata": {},
   "source": [
    "# Day 6\n",
    "# Problem 2:\n",
    "## Problem statement\n",
    "## Design a procedure to perform Linear search on list of N unsorted unique numbers. It take an array and the key element to be searched and returns the index of the element of key element if found. Else returns -1\n",
    "\n",
    "\n",
    "### Test cases\n",
    "* linear search([1,4,8,0,3,5,6],3)->4\n",
    "* linear search([15,12,9,3,-3],0)->-1"
   ]
  },
  {
   "cell_type": "code",
   "execution_count": 15,
   "metadata": {},
   "outputs": [
    {
     "data": {
      "text/plain": [
       "4"
      ]
     },
     "execution_count": 15,
     "metadata": {},
     "output_type": "execute_result"
    }
   ],
   "source": [
    "def linearsearch(a, key):\n",
    "    for i in range(0, len(a)):\n",
    "        if(a[i]==key):\n",
    "            return i\n",
    "    return -1\n",
    "linearsearch([1,4,8,0,3,5,6],3)\n",
    "    "
   ]
  },
  {
   "cell_type": "markdown",
   "metadata": {},
   "source": [
    "# Day 6\n",
    "\n",
    "# Problem 3:\n",
    "\n",
    "## Problem statement\n",
    "## Design a procedure to determine if a given string is a Palindrome\n",
    "\n",
    "\n",
    "### Test cases\n",
    "* Palindrome(\"racecar\") -> True\n",
    "* Palindrome(\"raptor\") -> False"
   ]
  },
  {
   "cell_type": "code",
   "execution_count": 25,
   "metadata": {},
   "outputs": [
    {
     "name": "stdout",
     "output_type": "stream",
     "text": [
      "true\n",
      "False\n"
     ]
    }
   ],
   "source": [
    "def Palindrome(s):\n",
    "    if s==s[::-1]:\n",
    "        print(\"true\")\n",
    "    else:  \n",
    "        print(\"False\")\n",
    "\n",
    "Palindrome(\"racecar\") \n",
    "Palindrome(\"raptor\") "
   ]
  },
  {
   "cell_type": "markdown",
   "metadata": {},
   "source": [
    "# Day 6\n",
    "\n",
    "# Problem 4:\n",
    "\n",
    "## Problem statement\n",
    "## Design a procedure to calculate the squareroot of a number \"without using the math function sqrt\".\n",
    "\n",
    "\n",
    "### Test cases\n",
    "* Squareroot(36) -> 6"
   ]
  },
  {
   "cell_type": "code",
   "execution_count": 29,
   "metadata": {},
   "outputs": [
    {
     "data": {
      "text/plain": [
       "6.0"
      ]
     },
     "execution_count": 29,
     "metadata": {},
     "output_type": "execute_result"
    }
   ],
   "source": [
    "def Squareroot(n):\n",
    "    return(n**(0.5))\n",
    "\n",
    "Squareroot(36)"
   ]
  },
  {
   "cell_type": "markdown",
   "metadata": {},
   "source": [
    "# Day 6\n",
    "\n",
    "# Problem 5:\n",
    "\n",
    "## Problem statement\n",
    "## Design a procedure to determine the frequency count of numbers in a given list\n",
    "\n",
    "\n",
    "### Test cases\n",
    "* Frequency( a[1,3,2,1] ) -> 1 : 2, 2 : 1, 3 : 1"
   ]
  },
  {
   "cell_type": "code",
   "execution_count": 61,
   "metadata": {},
   "outputs": [
    {
     "name": "stdout",
     "output_type": "stream",
     "text": [
      "a[1,3,2,1] ) ->  Counter({1: 2, 3: 1, 2: 1})\n"
     ]
    }
   ],
   "source": [
    "import collections\n",
    "a = [1,3,2,1]\n",
    "ctr = collections.Counter(a)\n",
    "print(\"a[1,3,2,1] ) -> \",ctr)\n"
   ]
  }
 ],
 "metadata": {
  "kernelspec": {
   "display_name": "Python 3",
   "language": "python",
   "name": "python3"
  },
  "language_info": {
   "codemirror_mode": {
    "name": "ipython",
    "version": 3
   },
   "file_extension": ".py",
   "mimetype": "text/x-python",
   "name": "python",
   "nbconvert_exporter": "python",
   "pygments_lexer": "ipython3",
   "version": "3.7.3"
  }
 },
 "nbformat": 4,
 "nbformat_minor": 2
}
